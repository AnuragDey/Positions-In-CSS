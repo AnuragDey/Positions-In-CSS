{
  "nbformat": 4,
  "nbformat_minor": 0,
  "metadata": {
    "colab": {
      "provenance": []
    },
    "kernelspec": {
      "name": "python3",
      "display_name": "Python 3"
    },
    "language_info": {
      "name": "python"
    }
  },
  "cells": [
    {
      "cell_type": "markdown",
      "source": [
        "# Positions In CSS\n"
      ],
      "metadata": {
        "id": "e4iraBbSil9l"
      }
    },
    {
      "cell_type": "code",
      "execution_count": null,
      "metadata": {
        "id": "BlzcTgTAaTYt"
      },
      "outputs": [],
      "source": [
        "# 1. Write code to position 5 equal-sized (50 X 50px) boxes A, B, C, D, and E as follows: 1.  box A 200px from the left, and 200px from the top of the viewport, 2.  box B -30px left, and -30px above from the center of box A, 3.  box B -30px right, and -30px above from the center of box A, 4. box B -30px left, and -30px below from the center of box A, 5. box B -30px right, and -30px below from the center of box A.\n",
        "<!DOCTYPE html>\n",
        "<html lang=\"en\">\n",
        "<head>\n",
        "    <meta charset=\"UTF-8\">\n",
        "    <meta name=\"viewport\" content=\"width=device-width, initial-scale=1.0\">\n",
        "    <title>Document</title>\n",
        "    <link rel=\"stylesheet\" href=\"style (1).css\">\n",
        "</head>\n",
        "<body>\n",
        "    <section>\n",
        "        <div id=\"boxa\" class=\"box\">\n",
        "            A\n",
        "        </div>\n",
        "        <div id=\"boxb\" class=\"box\">\n",
        "            B\n",
        "        </div>\n",
        "        <div id=\"boxc\" class=\"box\">\n",
        "            C\n",
        "        </div>\n",
        "        <div id=\"boxd\" class=\"box\">\n",
        "            D\n",
        "        </div>\n",
        "        <div id=\"boxe\" class=\"box\">\n",
        "            E\n",
        "        </div>\n",
        "    </section>\n",
        "\n",
        "</body>\n",
        "</html>"
      ]
    },
    {
      "cell_type": "code",
      "source": [
        ".box {\n",
        "    height: 50px;\n",
        "    width: 50px;\n",
        "    position: absolute;\n",
        "    color: black;\n",
        "    background-color: aqua;\n",
        "    text-align: center;\n",
        "}\n",
        "\n",
        "#boxa {\n",
        "    left: 200px;\n",
        "    top: 200px;\n",
        "}\n",
        "\n",
        "#boxb {\n",
        "    left: 170px;\n",
        "    top: 170px;\n",
        "}\n",
        "\n",
        "#boxc {\n",
        "    left: 230px;\n",
        "    top: 170px;\n",
        "}\n",
        "\n",
        "#boxd {\n",
        "    left: 170px;\n",
        "    top: 230px;\n",
        "}\n",
        "#boxe {\n",
        "    left: 230px;\n",
        "    top: 230px;\n",
        "}"
      ],
      "metadata": {
        "id": "WZfTj4fsY2i7"
      },
      "execution_count": null,
      "outputs": []
    },
    {
      "cell_type": "markdown",
      "source": [
        "2. Explain the difference between Absolute and Relative positioning.\n",
        "   - Absolute vs Relative Positioning:\n",
        "     *   Relative: Moves element, doesn't break flow.\n",
        "     *   Absolute: Positioned relative to ancestor, breaks flow.\n",
        "\n",
        "\n"
      ],
      "metadata": {
        "id": "A7LjiW91brCm"
      }
    },
    {
      "cell_type": "code",
      "source": [
        "# 3. Create a card as shown in the picture below. (You can use CSS float property only for layout).\n",
        "<!DOCTYPE html>\n",
        "<html lang=\"en\">\n",
        "<head>\n",
        "    <meta charset=\"UTF-8\">\n",
        "    <meta name=\"viewport\" content=\"width=device-width, initial-scale=1.0\">\n",
        "    <title>Document</title>\n",
        "        <link rel=\"stylesheet\" href=\"style (3).css\">\n",
        "</head>\n",
        "<body>\n",
        "    <div>\n",
        "        <img src=\"https://i.extremetech.com/imagery/content-types/03YhQAsPr5Jtxd8lsjzCFzK/hero-image.fit_lim.size_850x490.v1685107741.jpg\"/>\n",
        "        <p id=\"para1\">The Earth!!!</p>\n",
        "        <p id=\"para2\">Nature is Earth's masterpiece, a symphony of life composed through millenia. Its  landscapes whisper tales\n",
        "            of ancient mountains, winding rivers, and flourishing forests, reminding us of the planet's boundless beauty.\n",
        "            From delicate petals to towering redwoods, nature's artistry stirs awe and reconnects us to the essence of existence.\n",
        "            Nature is Earth's masterpiece, a symphony of life composed through millenia. Its landscapes whisper tales of ancient\n",
        "            mountains, winding rivers, and flourishing forests.\n",
        "        </p>\n",
        "    </div>\n",
        "</body>\n",
        "</html>"
      ],
      "metadata": {
        "id": "2kfWeERFcOQq"
      },
      "execution_count": null,
      "outputs": []
    },
    {
      "cell_type": "code",
      "source": [
        "div {\n",
        "    background-color: beige;\n",
        "    border: 2px solid beige;\n",
        "    padding: 10px;\n",
        "    border-radius: 10px;\n",
        "}\n",
        "\n",
        "img {\n",
        "    height: 200px;\n",
        "    width: 400px;\n",
        "    float: right;\n",
        "}\n",
        "\n",
        "#para1 {\n",
        "    font-size: 25px;\n",
        "    font-weight: bold;\n",
        " }\n",
        "\n",
        " #para2 {\n",
        "    font-size: 20px;\n",
        " }"
      ],
      "metadata": {
        "id": "e3EcKSZPZQ8D"
      },
      "execution_count": null,
      "outputs": []
    },
    {
      "cell_type": "code",
      "source": [
        "# 4. Create a simple header that sticks to the top of a webpage upon scrolling.\n",
        "<!DOCTYPE html>\n",
        "<html lang=\"en\">\n",
        "<head>\n",
        "    <meta charset=\"UTF-8\">\n",
        "    <meta name=\"viewport\" content=\"width=device-width, initial-scale=1.0\">\n",
        "    <title>Document</title>\n",
        "    <link rel=\"stylesheet\" href=\"style (4).css\"\n",
        "</head>\n",
        "<body>\n",
        "      <nav class=\"navbar\">\n",
        "        <div class=\"logo\">\n",
        "            Logo\n",
        "        </div>\n",
        "\n",
        "        <div class=\"links\">\n",
        "            <a href=\"#\">Home</a>\n",
        "            <a href=\"#\">Pricing</a>\n",
        "            <a href=\"#\">Terms</a>\n",
        "            <a href=\"#\">Contact</a>\n",
        "            <a href=\"#\">Get Started</a>\n",
        "        </div>\n",
        "    </nav>\n",
        "    <main>\n",
        "        <h1>Heading 1</h1>\n",
        "        <p>Lorem ipsum dolor sit amet consectetur adipisicing elit. Nostrum eum numquam tempora perspiciatis sint exercitationem tenetur repellat, sequi dolore vitae quasi iusto quisquam et, doloribus veritatis eius dolor asperiores quos.\n",
        "            Lorem ipsum dolor sit amet, consectetur adipisicing elit. Libero neque commodi sed velit. Suscipit itaque tempore repellat, pariatur eligendi, quibusdam dignissimos dolores dolor vel vitae temporibus ipsum obcaecati perferendis ut.\n",
        "            Lorem, ipsum dolor sit amet consectetur adipisicing elit. Quaerat minus sint, voluptate consectetur neque voluptatum reprehenderit error fugit rem, aperiam facilis saepe dolorem tempore! Voluptatum eius ea impedit atque nesciunt.\n",
        "            Lorem ipsum dolor sit, amet consectetur adipisicing elit. Suscipit repellat dolore cum ut voluptatem similique dolores atque ex fuga quam aliquam quia nemo repudiandae sapiente dolor sit, nisi impedit ducimus.\n",
        "            Lorem ipsum dolor sit amet consectetur adipisicing elit. Quod voluptatem provident blanditiis? Quisquam porro incidunt commodi, in asperiores fugiat mollitia similique accusantium veritatis molestiae voluptate odio itaque rerum blanditiis architecto!\n",
        "            Lorem ipsum dolor sit amet consectetur adipisicing elit. Iure, consequuntur ut hic consectetur explicabo voluptates aspernatur? Repudiandae aperiam dolore omnis consequuntur magni natus illum eius fugiat. Ex fuga explicabo reprehenderit.\n",
        "            Lorem ipsum, dolor sit amet consectetur adipisicing elit. Porro ut, accusantium quos laboriosam quas nostrum delectus officiis quod illo, maxime eaque. Impedit, voluptates labore nulla quas ipsum rerum ut ea!\n",
        "            Lorem ipsum dolor sit amet consectetur adipisicing elit. Debitis, culpa. Ex, in? Non, quo obcaecati. Rem soluta deserunt id? Rerum a autem aut cupiditate ab sequi qui, eveniet nobis cumque!\n",
        "        </p>\n",
        "        <h1>Heading 2</h1>\n",
        "        <p>Lorem ipsum dolor sit amet consectetur adipisicing elit. Hic nam repudiandae quibusdam quis iure a ab aut nesciunt dolores saepe, minus et eaque accusamus at aperiam provident earum deserunt voluptatum!\n",
        "            Lorem ipsum dolor, sit amet consectetur adipisicing elit. Enim delectus natus illo molestiae corporis. Blanditiis aliquid in tempora consequatur maxime laborum, quisquam aperiam odit quam exercitationem, culpa aliquam. Ducimus, harum?\n",
        "            Lorem ipsum dolor sit amet consectetur adipisicing elit. Culpa officiis nisi vero ipsa, consequuntur recusandae voluptatum odio amet reprehenderit eius, dignissimos totam! Illum numquam animi molestias in dolores. Autem, nostrum!\n",
        "            Lorem ipsum dolor sit, amet consectetur adipisicing elit. Quaerat, culpa non. Optio nobis fugiat fuga, architecto, omnis iste exercitationem recusandae, sapiente ipsam distinctio neque culpa aspernatur porro enim voluptatum. Voluptate.\n",
        "            Lorem ipsum dolor, sit amet consectetur adipisicing elit. Itaque assumenda debitis quod corrupti porro molestias sapiente nihil sunt placeat soluta. Provident a eius itaque corrupti adipisci eaque, sint laboriosam mollitia.\n",
        "            Lorem ipsum dolor sit amet consectetur adipisicing elit. Quas, incidunt ut optio nulla hic voluptatem sed reiciendis numquam error pariatur quae aspernatur excepturi blanditiis ducimus maxime commodi, dolores, aut quam?\n",
        "            Lorem ipsum dolor sit amet consectetur adipisicing elit. Debitis porro, aliquid dolore illo iste nihil quibusdam recusandae dignissimos error tenetur. Ut perspiciatis deleniti molestias quae, doloribus assumenda delectus tenetur eligendi.\n",
        "            Lorem ipsum dolor sit amet consectetur adipisicing elit. Animi cumque quos architecto possimus dolorem, reiciendis necessitatibus veniam dolores at est placeat omnis, excepturi suscipit alias assumenda, cum autem accusantium. Quasi!\n",
        "        </p>\n",
        "        <h1>Heading 3</h1>\n",
        "        <p>Lorem, ipsum dolor sit amet consectetur adipisicing elit. Repellendus, saepe ullam. Laborum ad excepturi voluptates quisquam ullam ipsam, minus reprehenderit aliquam accusantium, pariatur modi repellat nostrum corrupti minima, autem reiciendis.\n",
        "            Lorem ipsum dolor sit amet consectetur adipisicing elit. Possimus accusamus dolorum fugit reiciendis voluptatibus consectetur optio, saepe laudantium laboriosam eaque aperiam veniam repellendus molestias perspiciatis? Deserunt architecto laboriosam dolore est.\n",
        "            Lorem ipsum dolor, sit amet consectetur adipisicing elit. Mollitia culpa quasi itaque repellat, nemo reprehenderit aut, atque beatae eius sunt quo minus doloribus placeat impedit dolores voluptatibus! Officia, sint deleniti?\n",
        "            Lorem ipsum dolor sit amet consectetur adipisicing elit. Illum exercitationem delectus at doloremque fugit, iste esse iusto sed natus repellendus dolores accusantium vel minus ullam recusandae magnam unde maxime perferendis.\n",
        "            Lorem ipsum, dolor sit amet consectetur adipisicing elit. A commodi tenetur illo fugit cum est modi id perspiciatis ut optio illum, excepturi, cumque alias obcaecati animi qui, blanditiis quam. Accusantium.\n",
        "            Lorem ipsum, dolor sit amet consectetur adipisicing elit. Magni, sapiente nulla odio nam vero ad rerum at enim? Harum commodi consequuntur reprehenderit unde? Assumenda, libero aliquam accusantium fuga et amet!\n",
        "            Lorem, ipsum dolor sit amet consectetur adipisicing elit. Hic maiores cupiditate asperiores quia aperiam pariatur atque a est, reprehenderit accusamus fugit voluptates mollitia officiis eius laudantium doloremque debitis officia possimus.\n",
        "            Lorem ipsum dolor sit, amet consectetur adipisicing elit. Nihil nobis, deserunt delectus ad excepturi at illo doloribus aperiam perferendis dignissimos quis similique eum dicta esse consequuntur rerum ea, aspernatur fugit!\n",
        "        </p>\n",
        "    </main>\n",
        "</body>\n",
        "</html>"
      ],
      "metadata": {
        "id": "nov9K7Tscq6n"
      },
      "execution_count": null,
      "outputs": []
    },
    {
      "cell_type": "code",
      "source": [
        ".navbar {\n",
        "    position: fixed;\n",
        "    width: 100%;\n",
        "    background-color: #333;\n",
        "    color: white;\n",
        "    padding: 30px 5px;\n",
        "    top: 0;\n",
        "    left: 0;\n",
        "    display: flex;\n",
        "    justify-content: space-between;\n",
        "    align-items: center;\n",
        "}\n",
        "\n",
        ".navbar a {\n",
        "    color: white;\n",
        "    text-decoration: none;\n",
        "    margin: 0 10px;\n",
        "    font-size: 16px;\n",
        "}\n",
        "\n",
        ".navbar a:hover {\n",
        "    color: yellow;\n",
        "    text-decoration: underline;\n",
        "}\n",
        "\n",
        "h1 {\n",
        "    padding-top: 75px;\n",
        "}"
      ],
      "metadata": {
        "id": "a4W1FOlDZsbG"
      },
      "execution_count": null,
      "outputs": []
    },
    {
      "cell_type": "code",
      "source": [
        "\"\"\" 5. Explain the z-index, with a code example.\n",
        "    - z-index:\n",
        "      *   Determines the stacking order of elements along the z-axis.\n",
        "      *   Higher values place elements on top of lower ones.\n",
        "      *   Applied using the z-index property. \"\"\"\n",
        "<!DOCTYPE html>\n",
        "<html lang=\"en\">\n",
        "<head>\n",
        "    <meta charset=\"UTF-8\">\n",
        "    <meta name=\"viewport\" content=\"width=device-width, initial-scale=1.0\">\n",
        "    <title>Document</title>\n",
        "    <link rel=\"stylesheet\" href=\"style (5).css\">\n",
        "</head>\n",
        "<body>\n",
        "    <div id=\"football\">\n",
        "        <img src=\"https://resources.premierleague.pulselive.com/photo-resources/2024/07/30/69963040-5d01-497f-984f-08e9491d733a/Saka-v-Chelsea-2023-24.jpg?width=1400&height=800\"/>\n",
        "    </div>\n",
        "    <div id=\"cricket\">\n",
        "        <img src=\"https://cdn.britannica.com/63/211663-050-A674D74C/Jonny-Bairstow-batting-semifinal-match-England-Australia-2019.jpg\"/>\n",
        "    </div>\n",
        "    <div id=\"hockey\">\n",
        "        <img src=\"https://img.olympics.com/images/image/private/t_social_share_thumb/f_auto/primary/b2unl1gppjiic0fld0em\"/>\n",
        "    </div>\n",
        "</body>\n",
        "</html>"
      ],
      "metadata": {
        "id": "HGqSGliJdy1S"
      },
      "execution_count": null,
      "outputs": []
    },
    {
      "cell_type": "code",
      "source": [
        "img {\n",
        "    position: static;\n",
        "    width: 600px;\n",
        "    height: 600px;\n",
        "    margin-top: 30px;\n",
        "    margin-left: 30px;\n",
        "}\n",
        "\n",
        "#football {\n",
        "    position: static;\n",
        "    top: 0px;\n",
        "    left: 0px;\n",
        "}\n",
        "\n",
        "#cricket {\n",
        "    position: relative;\n",
        "    top: -50px;\n",
        "    left: 50px;\n",
        "    z-index: 1;\n",
        "}\n",
        "\n",
        "#hockey {\n",
        "    position: relative;\n",
        "    top: -120px;\n",
        "    left: 70px;\n",
        "    z-index: 2;\n",
        "}"
      ],
      "metadata": {
        "id": "3ZXmgZCeaHb1"
      },
      "execution_count": null,
      "outputs": []
    }
  ]
}